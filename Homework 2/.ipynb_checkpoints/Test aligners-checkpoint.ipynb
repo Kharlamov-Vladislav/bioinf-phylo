{
 "cells": [
  {
   "cell_type": "code",
   "execution_count": 29,
   "metadata": {},
   "outputs": [],
   "source": [
    "import pandas as pd\n",
    "from Bio import SeqIO\n",
    "from collections import Counter\n",
    "import numpy as np"
   ]
  },
  {
   "cell_type": "markdown",
   "metadata": {},
   "source": [
    "## 1. Организм Kluyveromyces lactis strain GG799 chromosome D"
   ]
  },
  {
   "cell_type": "markdown",
   "metadata": {},
   "source": [
    "##### Самописная функция для вычисления качества выравнивания по суммарной энтропии"
   ]
  },
  {
   "cell_type": "code",
   "execution_count": 42,
   "metadata": {},
   "outputs": [],
   "source": [
    "def score_align(list_align):\n",
    "    entropy, nucl_counter, min_len, n_align = 0, Counter(), min(map(lambda x: len(x), list_align)), len(list_align)\n",
    "    for index_nucl in range(min_len):\n",
    "        tempory_nucl = []\n",
    "        for align in list_align:\n",
    "            tempory_nucl.append(align[index_nucl])\n",
    "        nucl_counter = Counter(tempory_nucl)\n",
    "        for nucl in ['A', 'C', 'G', 'T', '-']:\n",
    "            p = nucl_counter[nucl] / n_align\n",
    "            if p != 0:\n",
    "                entropy += -p * np.log2(p)\n",
    "    return entropy"
   ]
  },
  {
   "cell_type": "markdown",
   "metadata": {},
   "source": [
    "### Подсчёт энтропии для ДНК последовательностей"
   ]
  },
  {
   "cell_type": "code",
   "execution_count": 52,
   "metadata": {},
   "outputs": [],
   "source": [
    "align_1, align_2, align_3, align_4 = [], [], [], []\n",
    "for record_1, record_2, record_3, record_4 in zip(SeqIO.parse(\"data/clustal_omega_aln.fasta.txt\", \"fasta\"),\n",
    "                                       SeqIO.parse(\"data/mafft.txt\", \"fasta\"), \n",
    "                                       SeqIO.parse(\"data/muscle_aln.fasta.txt\", \"fasta\"),\n",
    "                                       SeqIO.parse(\"data/prank_aln.txt\", \"fasta\")):\n",
    "    align_1.append(record_1.seq)\n",
    "    align_2.append(record_2.seq)\n",
    "    align_3.append(record_3.seq)\n",
    "    align_4.append(record_4.seq)"
   ]
  },
  {
   "cell_type": "code",
   "execution_count": 53,
   "metadata": {},
   "outputs": [],
   "source": [
    "align_test = pd.DataFrame({'time/sec' : [8, 7, 5, 'nan'],\n",
    "              'aligner' : ['clustalomega', 'muscle', 'mafft', 'prank'],\n",
    "              'Aligment entropy' : [score_align(align_1), score_align(align_2), score_align(align_3), score_align(align_4)],\n",
    "              'params' : ['--infile clustalo-I20200318-195558-0152-20387981-p2m.upfile --threads 8 --MAC-RAM 8000 --verbose --guidetree-out clustalo-I20200318-195558-0152-20387981-p2m.dnd --outfmt fa --outfile clustalo-I20200318-195558-0152-20387981-p2m.fasta --output-order tree-order --seqtype dna', '-in muscle-I20200318-200022-0566-71885333-p2m.upfile -verbose -log muscle-I20200318-200022-0566-71885333-p2m.output -quiet -fasta -out muscle-I20200318-200022-0566-71885333-p2m.fasta', '--thread 8 --anysymbol --bl 62 --op 1.53 --ep 0.123 --reorder --retree 2 --treeout --maxiterate 2 --nuc mafft-I20200318-200032-0321-28117674-p2m.upfile', 'default']\n",
    "})"
   ]
  },
  {
   "cell_type": "code",
   "execution_count": 54,
   "metadata": {
    "scrolled": true
   },
   "outputs": [
    {
     "data": {
      "text/html": [
       "<div>\n",
       "<style scoped>\n",
       "    .dataframe tbody tr th:only-of-type {\n",
       "        vertical-align: middle;\n",
       "    }\n",
       "\n",
       "    .dataframe tbody tr th {\n",
       "        vertical-align: top;\n",
       "    }\n",
       "\n",
       "    .dataframe thead th {\n",
       "        text-align: right;\n",
       "    }\n",
       "</style>\n",
       "<table border=\"1\" class=\"dataframe\">\n",
       "  <thead>\n",
       "    <tr style=\"text-align: right;\">\n",
       "      <th></th>\n",
       "      <th>time/sec</th>\n",
       "      <th>aligner</th>\n",
       "      <th>Aligment entropy</th>\n",
       "      <th>params</th>\n",
       "    </tr>\n",
       "  </thead>\n",
       "  <tbody>\n",
       "    <tr>\n",
       "      <td>2</td>\n",
       "      <td>5</td>\n",
       "      <td>mafft</td>\n",
       "      <td>992.614875</td>\n",
       "      <td>--thread 8 --anysymbol --bl 62 --op 1.53 --ep ...</td>\n",
       "    </tr>\n",
       "    <tr>\n",
       "      <td>0</td>\n",
       "      <td>8</td>\n",
       "      <td>clustalomega</td>\n",
       "      <td>996.710397</td>\n",
       "      <td>--infile clustalo-I20200318-195558-0152-203879...</td>\n",
       "    </tr>\n",
       "    <tr>\n",
       "      <td>1</td>\n",
       "      <td>7</td>\n",
       "      <td>muscle</td>\n",
       "      <td>1015.653870</td>\n",
       "      <td>-in muscle-I20200318-200022-0566-71885333-p2m....</td>\n",
       "    </tr>\n",
       "    <tr>\n",
       "      <td>3</td>\n",
       "      <td>nan</td>\n",
       "      <td>prank</td>\n",
       "      <td>1113.487577</td>\n",
       "      <td>default</td>\n",
       "    </tr>\n",
       "  </tbody>\n",
       "</table>\n",
       "</div>"
      ],
      "text/plain": [
       "  time/sec       aligner  Aligment entropy  \\\n",
       "2        5         mafft        992.614875   \n",
       "0        8  clustalomega        996.710397   \n",
       "1        7        muscle       1015.653870   \n",
       "3      nan         prank       1113.487577   \n",
       "\n",
       "                                              params  \n",
       "2  --thread 8 --anysymbol --bl 62 --op 1.53 --ep ...  \n",
       "0  --infile clustalo-I20200318-195558-0152-203879...  \n",
       "1  -in muscle-I20200318-200022-0566-71885333-p2m....  \n",
       "3                                            default  "
      ]
     },
     "execution_count": 54,
     "metadata": {},
     "output_type": "execute_result"
    }
   ],
   "source": [
    "align_test.sort_values('Aligment entropy')"
   ]
  },
  {
   "cell_type": "markdown",
   "metadata": {},
   "source": [
    "### Подсчёт энтропии для аминокислотных последовательностей"
   ]
  },
  {
   "cell_type": "code",
   "execution_count": 60,
   "metadata": {},
   "outputs": [],
   "source": [
    "align_1, align_2, align_3 = [], [], []\n",
    "for record_1, record_2, record_3 in zip(SeqIO.parse(\"data/clustalw_protein_aln.txt\", \"fasta\"),\n",
    "                                       SeqIO.parse(\"data/mafft_protein_aln.txt\", \"fasta\"), \n",
    "                                       SeqIO.parse(\"data/tcoffee_protein_aln.txt\", \"fasta\")):\n",
    "\n",
    "    align_1.append(record_1.seq)\n",
    "    align_2.append(record_2.seq)\n",
    "    align_3.append(record_3.seq)"
   ]
  },
  {
   "cell_type": "code",
   "execution_count": 61,
   "metadata": {},
   "outputs": [],
   "source": [
    "align_test = pd.DataFrame({'time/sec' : [2, 4, 1],\n",
    "              'aligner' : ['clustalomega', 'muscle', 't-coffee'],\n",
    "              'Aligment entropy' : [score_align(align_1), score_align(align_2), score_align(align_3)],\n",
    "              'params' : ['--infile clustalo-I20200318-212004-0854-15550679-p2m.upfile --threads 8 --MAC-RAM 8000 --verbose --guidetree-out clustalo-I20200318-212004-0854-15550679-p2m.dnd --outfmt fa --outfile clustalo-I20200318-212004-0854-15550679-p2m.fasta --output-order tree-order --seqtype protein',\n",
    "                         '--thread 8 --anysymbol --bl 62 --op 1.53 --ep 0.123 --reorder --retree 2 --treeout --maxiterate 2 mafft-I20200318-212013-0043-83854256-p2m.upfile',\n",
    "                         '-in tcoffee-I20200318-213627-0298-7550595-p2m.upfile -case=upper -n_core=8 -output=clustalw,msf,phylip,score_html,fasta -outorder=aligned -type=protein; echo']\n",
    "})"
   ]
  },
  {
   "cell_type": "code",
   "execution_count": 62,
   "metadata": {},
   "outputs": [
    {
     "data": {
      "text/html": [
       "<div>\n",
       "<style scoped>\n",
       "    .dataframe tbody tr th:only-of-type {\n",
       "        vertical-align: middle;\n",
       "    }\n",
       "\n",
       "    .dataframe tbody tr th {\n",
       "        vertical-align: top;\n",
       "    }\n",
       "\n",
       "    .dataframe thead th {\n",
       "        text-align: right;\n",
       "    }\n",
       "</style>\n",
       "<table border=\"1\" class=\"dataframe\">\n",
       "  <thead>\n",
       "    <tr style=\"text-align: right;\">\n",
       "      <th></th>\n",
       "      <th>time/sec</th>\n",
       "      <th>aligner</th>\n",
       "      <th>Aligment entropy</th>\n",
       "      <th>params</th>\n",
       "    </tr>\n",
       "  </thead>\n",
       "  <tbody>\n",
       "    <tr>\n",
       "      <td>1</td>\n",
       "      <td>4</td>\n",
       "      <td>muscle</td>\n",
       "      <td>98.043261</td>\n",
       "      <td>--thread 8 --anysymbol --bl 62 --op 1.53 --ep ...</td>\n",
       "    </tr>\n",
       "    <tr>\n",
       "      <td>0</td>\n",
       "      <td>2</td>\n",
       "      <td>clustalomega</td>\n",
       "      <td>108.452171</td>\n",
       "      <td>--infile clustalo-I20200318-212004-0854-155506...</td>\n",
       "    </tr>\n",
       "    <tr>\n",
       "      <td>2</td>\n",
       "      <td>1</td>\n",
       "      <td>t-coffee</td>\n",
       "      <td>360.041359</td>\n",
       "      <td>-in tcoffee-I20200318-213627-0298-7550595-p2m....</td>\n",
       "    </tr>\n",
       "  </tbody>\n",
       "</table>\n",
       "</div>"
      ],
      "text/plain": [
       "   time/sec       aligner  Aligment entropy  \\\n",
       "1         4        muscle         98.043261   \n",
       "0         2  clustalomega        108.452171   \n",
       "2         1      t-coffee        360.041359   \n",
       "\n",
       "                                              params  \n",
       "1  --thread 8 --anysymbol --bl 62 --op 1.53 --ep ...  \n",
       "0  --infile clustalo-I20200318-212004-0854-155506...  \n",
       "2  -in tcoffee-I20200318-213627-0298-7550595-p2m....  "
      ]
     },
     "execution_count": 62,
     "metadata": {},
     "output_type": "execute_result"
    }
   ],
   "source": [
    "align_test.sort_values('Aligment entropy')"
   ]
  },
  {
   "cell_type": "markdown",
   "metadata": {},
   "source": [
    "### Для strange_aln как мне кажется, проблема в том, что там много ситуаций вида выравнивания:\n",
    "#### AGCT\n",
    "#### - - - -\n",
    "#### - - - -\n",
    "#### - - - -\n",
    "#### GCCT\n",
    "### т.е. нужно как-то инвертировать гэпы"
   ]
  },
  {
   "cell_type": "code",
   "execution_count": null,
   "metadata": {},
   "outputs": [],
   "source": []
  }
 ],
 "metadata": {
  "kernelspec": {
   "display_name": "Python 3",
   "language": "python",
   "name": "python3"
  },
  "language_info": {
   "codemirror_mode": {
    "name": "ipython",
    "version": 3
   },
   "file_extension": ".py",
   "mimetype": "text/x-python",
   "name": "python",
   "nbconvert_exporter": "python",
   "pygments_lexer": "ipython3",
   "version": "3.7.4"
  }
 },
 "nbformat": 4,
 "nbformat_minor": 2
}
