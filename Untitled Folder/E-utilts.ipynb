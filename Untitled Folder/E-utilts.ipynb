{
 "cells": [
  {
   "cell_type": "code",
   "execution_count": 35,
   "metadata": {},
   "outputs": [],
   "source": [
    "from Bio import Entrez\n",
    "import warnings\n",
    "from pprint import pprint\n",
    "from bs4 import BeautifulSoup\n",
    "warnings.filterwarnings('ignore')"
   ]
  },
  {
   "cell_type": "code",
   "execution_count": 17,
   "metadata": {},
   "outputs": [],
   "source": [
    "def esearch(name_organism, name_gene):\n",
    "    response = []\n",
    "    Entrez.email = \"mike.rayko@gmail.com\"\n",
    "    handle = Entrez.esearch(db=\"nucleotide\", term=f'\"{name_organism}\"[Organism] AND {name_gene}[Gene]')\n",
    "    record = Entrez.read(handle)\n",
    "    for id in record['IdList']:\n",
    "        handle = Entrez.efetch(db=\"nucleotide\", id=id, rettype=\"gb\", retmode=\"xml\")\n",
    "        response.append(handle.read())\n",
    "    return response"
   ]
  },
  {
   "cell_type": "code",
   "execution_count": 21,
   "metadata": {},
   "outputs": [],
   "source": [
    "Entrez.email = \"mike.rayko@gmail.com\"\n",
    "handle = Entrez.esearch(db=\"nucleotide\", term=f'\"Human\"[Organism] AND \"GSPT1\"[Gene]')\n",
    "record = Entrez.read(handle)"
   ]
  },
  {
   "cell_type": "code",
   "execution_count": 56,
   "metadata": {},
   "outputs": [
    {
     "name": "stdout",
     "output_type": "stream",
     "text": [
      "[{'Item': [], 'Id': '1811242768', 'Caption': 'NM_001378510', 'Title': 'Mus musculus keratin associated protein 29-1 (Krtap29-1), mRNA', 'Extra': 'gi|1811242768|ref|NM_001378510.1|[1811242768]', 'Gi': IntegerElement(1811242768, attributes={}), 'CreateDate': '2020/02/20', 'UpdateDate': '2020/02/23', 'Flags': IntegerElement(512, attributes={}), 'TaxId': IntegerElement(10090, attributes={}), 'Length': IntegerElement(1076, attributes={}), 'Status': 'live', 'ReplacedBy': '', 'Comment': '  ', 'AccessionVersion': 'NM_001378510.1'}]\n"
     ]
    }
   ],
   "source": [
    "handle = Entrez.esummary(db=\"nucleotide\", id=\"1811242768\")\n",
    "record = Entrez.read(handle)\n",
    "print(record)"
   ]
  },
  {
   "cell_type": "code",
   "execution_count": null,
   "metadata": {},
   "outputs": [],
   "source": []
  }
 ],
 "metadata": {
  "kernelspec": {
   "display_name": "Python 3",
   "language": "python",
   "name": "python3"
  },
  "language_info": {
   "codemirror_mode": {
    "name": "ipython",
    "version": 3
   },
   "file_extension": ".py",
   "mimetype": "text/x-python",
   "name": "python",
   "nbconvert_exporter": "python",
   "pygments_lexer": "ipython3",
   "version": "3.7.4"
  }
 },
 "nbformat": 4,
 "nbformat_minor": 2
}
